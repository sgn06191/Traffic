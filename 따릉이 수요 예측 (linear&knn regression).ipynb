{
 "cells": [
  {
   "cell_type": "code",
   "execution_count": 1,
   "metadata": {},
   "outputs": [],
   "source": [
    "import pandas as pd \n",
    "import numpy as np\n",
    "import matplotlib.pyplot as plt\n",
    "\n",
    "# matplotlib 한글 문제\n",
    "from matplotlib import font_manager, rc\n",
    "font_name = font_manager.FontProperties(fname = \"c:/Windows/Fonts/malgun.ttf\").get_name()\n",
    "rc('font', family = font_name)"
   ]
  },
  {
   "cell_type": "code",
   "execution_count": 2,
   "metadata": {},
   "outputs": [],
   "source": [
    "import warnings\n",
    "warnings.filterwarnings('ignore')"
   ]
  },
  {
   "cell_type": "code",
   "execution_count": 3,
   "metadata": {},
   "outputs": [],
   "source": [
    "from sklearn.model_selection import train_test_split"
   ]
  },
  {
   "cell_type": "code",
   "execution_count": 32,
   "metadata": {},
   "outputs": [
    {
     "data": {
      "text/html": [
       "<div>\n",
       "<style scoped>\n",
       "    .dataframe tbody tr th:only-of-type {\n",
       "        vertical-align: middle;\n",
       "    }\n",
       "\n",
       "    .dataframe tbody tr th {\n",
       "        vertical-align: top;\n",
       "    }\n",
       "\n",
       "    .dataframe thead th {\n",
       "        text-align: right;\n",
       "    }\n",
       "</style>\n",
       "<table border=\"1\" class=\"dataframe\">\n",
       "  <thead>\n",
       "    <tr style=\"text-align: right;\">\n",
       "      <th></th>\n",
       "      <th>user</th>\n",
       "      <th>temp</th>\n",
       "      <th>rain</th>\n",
       "      <th>humid</th>\n",
       "      <th>snow</th>\n",
       "      <th>weekend</th>\n",
       "    </tr>\n",
       "  </thead>\n",
       "  <tbody>\n",
       "    <tr>\n",
       "      <th>0</th>\n",
       "      <td>-1.758752</td>\n",
       "      <td>-0.812820</td>\n",
       "      <td>0.052766</td>\n",
       "      <td>1.158174</td>\n",
       "      <td>-0.109117</td>\n",
       "      <td>1</td>\n",
       "    </tr>\n",
       "    <tr>\n",
       "      <th>1</th>\n",
       "      <td>-0.821734</td>\n",
       "      <td>-1.282561</td>\n",
       "      <td>-0.320771</td>\n",
       "      <td>-0.610735</td>\n",
       "      <td>-0.109117</td>\n",
       "      <td>0</td>\n",
       "    </tr>\n",
       "    <tr>\n",
       "      <th>2</th>\n",
       "      <td>-0.852706</td>\n",
       "      <td>-1.319454</td>\n",
       "      <td>-0.252855</td>\n",
       "      <td>-0.100093</td>\n",
       "      <td>-0.109117</td>\n",
       "      <td>0</td>\n",
       "    </tr>\n",
       "    <tr>\n",
       "      <th>3</th>\n",
       "      <td>-0.663309</td>\n",
       "      <td>-1.075360</td>\n",
       "      <td>-0.320771</td>\n",
       "      <td>-0.887215</td>\n",
       "      <td>-0.109117</td>\n",
       "      <td>0</td>\n",
       "    </tr>\n",
       "    <tr>\n",
       "      <th>4</th>\n",
       "      <td>-1.015833</td>\n",
       "      <td>-1.697392</td>\n",
       "      <td>-0.320771</td>\n",
       "      <td>-1.764616</td>\n",
       "      <td>-0.109117</td>\n",
       "      <td>0</td>\n",
       "    </tr>\n",
       "    <tr>\n",
       "      <th>...</th>\n",
       "      <td>...</td>\n",
       "      <td>...</td>\n",
       "      <td>...</td>\n",
       "      <td>...</td>\n",
       "      <td>...</td>\n",
       "      <td>...</td>\n",
       "    </tr>\n",
       "    <tr>\n",
       "      <th>326</th>\n",
       "      <td>1.739152</td>\n",
       "      <td>0.471138</td>\n",
       "      <td>-0.320771</td>\n",
       "      <td>0.689850</td>\n",
       "      <td>-0.109117</td>\n",
       "      <td>0</td>\n",
       "    </tr>\n",
       "    <tr>\n",
       "      <th>327</th>\n",
       "      <td>1.657381</td>\n",
       "      <td>0.597689</td>\n",
       "      <td>-0.320771</td>\n",
       "      <td>0.235633</td>\n",
       "      <td>-0.109117</td>\n",
       "      <td>0</td>\n",
       "    </tr>\n",
       "    <tr>\n",
       "      <th>328</th>\n",
       "      <td>1.816868</td>\n",
       "      <td>0.797597</td>\n",
       "      <td>-0.320771</td>\n",
       "      <td>0.396443</td>\n",
       "      <td>-0.109117</td>\n",
       "      <td>0</td>\n",
       "    </tr>\n",
       "    <tr>\n",
       "      <th>329</th>\n",
       "      <td>1.861336</td>\n",
       "      <td>1.012949</td>\n",
       "      <td>-0.320771</td>\n",
       "      <td>-0.150875</td>\n",
       "      <td>-0.109117</td>\n",
       "      <td>1</td>\n",
       "    </tr>\n",
       "    <tr>\n",
       "      <th>330</th>\n",
       "      <td>1.420634</td>\n",
       "      <td>0.877389</td>\n",
       "      <td>-0.207578</td>\n",
       "      <td>0.131248</td>\n",
       "      <td>-0.109117</td>\n",
       "      <td>1</td>\n",
       "    </tr>\n",
       "  </tbody>\n",
       "</table>\n",
       "<p>331 rows × 6 columns</p>\n",
       "</div>"
      ],
      "text/plain": [
       "         user      temp      rain     humid      snow  weekend\n",
       "0   -1.758752 -0.812820  0.052766  1.158174 -0.109117        1\n",
       "1   -0.821734 -1.282561 -0.320771 -0.610735 -0.109117        0\n",
       "2   -0.852706 -1.319454 -0.252855 -0.100093 -0.109117        0\n",
       "3   -0.663309 -1.075360 -0.320771 -0.887215 -0.109117        0\n",
       "4   -1.015833 -1.697392 -0.320771 -1.764616 -0.109117        0\n",
       "..        ...       ...       ...       ...       ...      ...\n",
       "326  1.739152  0.471138 -0.320771  0.689850 -0.109117        0\n",
       "327  1.657381  0.597689 -0.320771  0.235633 -0.109117        0\n",
       "328  1.816868  0.797597 -0.320771  0.396443 -0.109117        0\n",
       "329  1.861336  1.012949 -0.320771 -0.150875 -0.109117        1\n",
       "330  1.420634  0.877389 -0.207578  0.131248 -0.109117        1\n",
       "\n",
       "[331 rows x 6 columns]"
      ]
     },
     "execution_count": 32,
     "metadata": {},
     "output_type": "execute_result"
    }
   ],
   "source": [
    "df = pd.read_csv(\"normalized_df.csv\")\n",
    "df"
   ]
  },
  {
   "cell_type": "code",
   "execution_count": 33,
   "metadata": {},
   "outputs": [
    {
     "data": {
      "text/html": [
       "<div>\n",
       "<style scoped>\n",
       "    .dataframe tbody tr th:only-of-type {\n",
       "        vertical-align: middle;\n",
       "    }\n",
       "\n",
       "    .dataframe tbody tr th {\n",
       "        vertical-align: top;\n",
       "    }\n",
       "\n",
       "    .dataframe thead th {\n",
       "        text-align: right;\n",
       "    }\n",
       "</style>\n",
       "<table border=\"1\" class=\"dataframe\">\n",
       "  <thead>\n",
       "    <tr style=\"text-align: right;\">\n",
       "      <th></th>\n",
       "      <th>user</th>\n",
       "    </tr>\n",
       "  </thead>\n",
       "  <tbody>\n",
       "    <tr>\n",
       "      <th>0</th>\n",
       "      <td>-1.758752</td>\n",
       "    </tr>\n",
       "    <tr>\n",
       "      <th>1</th>\n",
       "      <td>-0.821734</td>\n",
       "    </tr>\n",
       "    <tr>\n",
       "      <th>2</th>\n",
       "      <td>-0.852706</td>\n",
       "    </tr>\n",
       "    <tr>\n",
       "      <th>3</th>\n",
       "      <td>-0.663309</td>\n",
       "    </tr>\n",
       "    <tr>\n",
       "      <th>4</th>\n",
       "      <td>-1.015833</td>\n",
       "    </tr>\n",
       "    <tr>\n",
       "      <th>...</th>\n",
       "      <td>...</td>\n",
       "    </tr>\n",
       "    <tr>\n",
       "      <th>326</th>\n",
       "      <td>1.739152</td>\n",
       "    </tr>\n",
       "    <tr>\n",
       "      <th>327</th>\n",
       "      <td>1.657381</td>\n",
       "    </tr>\n",
       "    <tr>\n",
       "      <th>328</th>\n",
       "      <td>1.816868</td>\n",
       "    </tr>\n",
       "    <tr>\n",
       "      <th>329</th>\n",
       "      <td>1.861336</td>\n",
       "    </tr>\n",
       "    <tr>\n",
       "      <th>330</th>\n",
       "      <td>1.420634</td>\n",
       "    </tr>\n",
       "  </tbody>\n",
       "</table>\n",
       "<p>331 rows × 1 columns</p>\n",
       "</div>"
      ],
      "text/plain": [
       "         user\n",
       "0   -1.758752\n",
       "1   -0.821734\n",
       "2   -0.852706\n",
       "3   -0.663309\n",
       "4   -1.015833\n",
       "..        ...\n",
       "326  1.739152\n",
       "327  1.657381\n",
       "328  1.816868\n",
       "329  1.861336\n",
       "330  1.420634\n",
       "\n",
       "[331 rows x 1 columns]"
      ]
     },
     "execution_count": 33,
     "metadata": {},
     "output_type": "execute_result"
    }
   ],
   "source": [
    "Y = df[['user']]\n",
    "Y"
   ]
  },
  {
   "cell_type": "code",
   "execution_count": 34,
   "metadata": {},
   "outputs": [
    {
     "data": {
      "text/html": [
       "<div>\n",
       "<style scoped>\n",
       "    .dataframe tbody tr th:only-of-type {\n",
       "        vertical-align: middle;\n",
       "    }\n",
       "\n",
       "    .dataframe tbody tr th {\n",
       "        vertical-align: top;\n",
       "    }\n",
       "\n",
       "    .dataframe thead th {\n",
       "        text-align: right;\n",
       "    }\n",
       "</style>\n",
       "<table border=\"1\" class=\"dataframe\">\n",
       "  <thead>\n",
       "    <tr style=\"text-align: right;\">\n",
       "      <th></th>\n",
       "      <th>temp</th>\n",
       "      <th>weekend</th>\n",
       "      <th>rain</th>\n",
       "      <th>humid</th>\n",
       "    </tr>\n",
       "  </thead>\n",
       "  <tbody>\n",
       "    <tr>\n",
       "      <th>0</th>\n",
       "      <td>-0.812820</td>\n",
       "      <td>1</td>\n",
       "      <td>0.052766</td>\n",
       "      <td>1.158174</td>\n",
       "    </tr>\n",
       "    <tr>\n",
       "      <th>1</th>\n",
       "      <td>-1.282561</td>\n",
       "      <td>0</td>\n",
       "      <td>-0.320771</td>\n",
       "      <td>-0.610735</td>\n",
       "    </tr>\n",
       "    <tr>\n",
       "      <th>2</th>\n",
       "      <td>-1.319454</td>\n",
       "      <td>0</td>\n",
       "      <td>-0.252855</td>\n",
       "      <td>-0.100093</td>\n",
       "    </tr>\n",
       "    <tr>\n",
       "      <th>3</th>\n",
       "      <td>-1.075360</td>\n",
       "      <td>0</td>\n",
       "      <td>-0.320771</td>\n",
       "      <td>-0.887215</td>\n",
       "    </tr>\n",
       "    <tr>\n",
       "      <th>4</th>\n",
       "      <td>-1.697392</td>\n",
       "      <td>0</td>\n",
       "      <td>-0.320771</td>\n",
       "      <td>-1.764616</td>\n",
       "    </tr>\n",
       "    <tr>\n",
       "      <th>...</th>\n",
       "      <td>...</td>\n",
       "      <td>...</td>\n",
       "      <td>...</td>\n",
       "      <td>...</td>\n",
       "    </tr>\n",
       "    <tr>\n",
       "      <th>326</th>\n",
       "      <td>0.471138</td>\n",
       "      <td>0</td>\n",
       "      <td>-0.320771</td>\n",
       "      <td>0.689850</td>\n",
       "    </tr>\n",
       "    <tr>\n",
       "      <th>327</th>\n",
       "      <td>0.597689</td>\n",
       "      <td>0</td>\n",
       "      <td>-0.320771</td>\n",
       "      <td>0.235633</td>\n",
       "    </tr>\n",
       "    <tr>\n",
       "      <th>328</th>\n",
       "      <td>0.797597</td>\n",
       "      <td>0</td>\n",
       "      <td>-0.320771</td>\n",
       "      <td>0.396443</td>\n",
       "    </tr>\n",
       "    <tr>\n",
       "      <th>329</th>\n",
       "      <td>1.012949</td>\n",
       "      <td>1</td>\n",
       "      <td>-0.320771</td>\n",
       "      <td>-0.150875</td>\n",
       "    </tr>\n",
       "    <tr>\n",
       "      <th>330</th>\n",
       "      <td>0.877389</td>\n",
       "      <td>1</td>\n",
       "      <td>-0.207578</td>\n",
       "      <td>0.131248</td>\n",
       "    </tr>\n",
       "  </tbody>\n",
       "</table>\n",
       "<p>331 rows × 4 columns</p>\n",
       "</div>"
      ],
      "text/plain": [
       "         temp  weekend      rain     humid\n",
       "0   -0.812820        1  0.052766  1.158174\n",
       "1   -1.282561        0 -0.320771 -0.610735\n",
       "2   -1.319454        0 -0.252855 -0.100093\n",
       "3   -1.075360        0 -0.320771 -0.887215\n",
       "4   -1.697392        0 -0.320771 -1.764616\n",
       "..        ...      ...       ...       ...\n",
       "326  0.471138        0 -0.320771  0.689850\n",
       "327  0.597689        0 -0.320771  0.235633\n",
       "328  0.797597        0 -0.320771  0.396443\n",
       "329  1.012949        1 -0.320771 -0.150875\n",
       "330  0.877389        1 -0.207578  0.131248\n",
       "\n",
       "[331 rows x 4 columns]"
      ]
     },
     "execution_count": 34,
     "metadata": {},
     "output_type": "execute_result"
    }
   ],
   "source": [
    "X= df[['temp', 'weekend', 'rain', 'humid']]\n",
    "X"
   ]
  },
  {
   "cell_type": "code",
   "execution_count": 36,
   "metadata": {},
   "outputs": [],
   "source": [
    "import statsmodels.api as sm\n",
    "import statsmodels.formula.api as smf"
   ]
  },
  {
   "cell_type": "code",
   "execution_count": 37,
   "metadata": {},
   "outputs": [
    {
     "data": {
      "text/html": [
       "<div>\n",
       "<style scoped>\n",
       "    .dataframe tbody tr th:only-of-type {\n",
       "        vertical-align: middle;\n",
       "    }\n",
       "\n",
       "    .dataframe tbody tr th {\n",
       "        vertical-align: top;\n",
       "    }\n",
       "\n",
       "    .dataframe thead th {\n",
       "        text-align: right;\n",
       "    }\n",
       "</style>\n",
       "<table border=\"1\" class=\"dataframe\">\n",
       "  <thead>\n",
       "    <tr style=\"text-align: right;\">\n",
       "      <th></th>\n",
       "      <th>const</th>\n",
       "      <th>temp</th>\n",
       "      <th>weekend</th>\n",
       "      <th>rain</th>\n",
       "      <th>humid</th>\n",
       "    </tr>\n",
       "  </thead>\n",
       "  <tbody>\n",
       "    <tr>\n",
       "      <th>0</th>\n",
       "      <td>1.0</td>\n",
       "      <td>-0.812820</td>\n",
       "      <td>1</td>\n",
       "      <td>0.052766</td>\n",
       "      <td>1.158174</td>\n",
       "    </tr>\n",
       "    <tr>\n",
       "      <th>1</th>\n",
       "      <td>1.0</td>\n",
       "      <td>-1.282561</td>\n",
       "      <td>0</td>\n",
       "      <td>-0.320771</td>\n",
       "      <td>-0.610735</td>\n",
       "    </tr>\n",
       "    <tr>\n",
       "      <th>2</th>\n",
       "      <td>1.0</td>\n",
       "      <td>-1.319454</td>\n",
       "      <td>0</td>\n",
       "      <td>-0.252855</td>\n",
       "      <td>-0.100093</td>\n",
       "    </tr>\n",
       "    <tr>\n",
       "      <th>3</th>\n",
       "      <td>1.0</td>\n",
       "      <td>-1.075360</td>\n",
       "      <td>0</td>\n",
       "      <td>-0.320771</td>\n",
       "      <td>-0.887215</td>\n",
       "    </tr>\n",
       "    <tr>\n",
       "      <th>4</th>\n",
       "      <td>1.0</td>\n",
       "      <td>-1.697392</td>\n",
       "      <td>0</td>\n",
       "      <td>-0.320771</td>\n",
       "      <td>-1.764616</td>\n",
       "    </tr>\n",
       "  </tbody>\n",
       "</table>\n",
       "</div>"
      ],
      "text/plain": [
       "   const      temp  weekend      rain     humid\n",
       "0    1.0 -0.812820        1  0.052766  1.158174\n",
       "1    1.0 -1.282561        0 -0.320771 -0.610735\n",
       "2    1.0 -1.319454        0 -0.252855 -0.100093\n",
       "3    1.0 -1.075360        0 -0.320771 -0.887215\n",
       "4    1.0 -1.697392        0 -0.320771 -1.764616"
      ]
     },
     "execution_count": 37,
     "metadata": {},
     "output_type": "execute_result"
    }
   ],
   "source": [
    "X = sm.add_constant(X, has_constant='add')\n",
    "X.head()"
   ]
  },
  {
   "cell_type": "code",
   "execution_count": 38,
   "metadata": {},
   "outputs": [
    {
     "data": {
      "text/html": [
       "<div>\n",
       "<style scoped>\n",
       "    .dataframe tbody tr th:only-of-type {\n",
       "        vertical-align: middle;\n",
       "    }\n",
       "\n",
       "    .dataframe tbody tr th {\n",
       "        vertical-align: top;\n",
       "    }\n",
       "\n",
       "    .dataframe thead th {\n",
       "        text-align: right;\n",
       "    }\n",
       "</style>\n",
       "<table border=\"1\" class=\"dataframe\">\n",
       "  <thead>\n",
       "    <tr style=\"text-align: right;\">\n",
       "      <th></th>\n",
       "      <th>user</th>\n",
       "    </tr>\n",
       "  </thead>\n",
       "  <tbody>\n",
       "    <tr>\n",
       "      <th>0</th>\n",
       "      <td>-1.758752</td>\n",
       "    </tr>\n",
       "    <tr>\n",
       "      <th>1</th>\n",
       "      <td>-0.821734</td>\n",
       "    </tr>\n",
       "    <tr>\n",
       "      <th>2</th>\n",
       "      <td>-0.852706</td>\n",
       "    </tr>\n",
       "    <tr>\n",
       "      <th>3</th>\n",
       "      <td>-0.663309</td>\n",
       "    </tr>\n",
       "    <tr>\n",
       "      <th>4</th>\n",
       "      <td>-1.015833</td>\n",
       "    </tr>\n",
       "  </tbody>\n",
       "</table>\n",
       "</div>"
      ],
      "text/plain": [
       "       user\n",
       "0 -1.758752\n",
       "1 -0.821734\n",
       "2 -0.852706\n",
       "3 -0.663309\n",
       "4 -1.015833"
      ]
     },
     "execution_count": 38,
     "metadata": {},
     "output_type": "execute_result"
    }
   ],
   "source": [
    "Y.head()"
   ]
  },
  {
   "cell_type": "code",
   "execution_count": 39,
   "metadata": {},
   "outputs": [
    {
     "name": "stdout",
     "output_type": "stream",
     "text": [
      "(231, 5) (100, 5) (231, 1) (100, 1)\n"
     ]
    }
   ],
   "source": [
    "# 독립변수와 종속변수 분리\n",
    "X_train, X_test, Y_train, Y_test = train_test_split(X, Y, train_size=0.7, test_size=0.3, random_state=1234)\n",
    "print(X_train.shape, X_test.shape, Y_train.shape, Y_test.shape)\n"
   ]
  },
  {
   "cell_type": "code",
   "execution_count": 40,
   "metadata": {},
   "outputs": [],
   "source": [
    "# 회귀 모델 생성\n",
    "lm = sm.OLS(Y_train, X_train)\n",
    "lm_train = lm.fit()"
   ]
  },
  {
   "cell_type": "code",
   "execution_count": 41,
   "metadata": {},
   "outputs": [
    {
     "data": {
      "text/html": [
       "<table class=\"simpletable\">\n",
       "<caption>OLS Regression Results</caption>\n",
       "<tr>\n",
       "  <th>Dep. Variable:</th>          <td>user</td>       <th>  R-squared:         </th> <td>   0.627</td>\n",
       "</tr>\n",
       "<tr>\n",
       "  <th>Model:</th>                   <td>OLS</td>       <th>  Adj. R-squared:    </th> <td>   0.620</td>\n",
       "</tr>\n",
       "<tr>\n",
       "  <th>Method:</th>             <td>Least Squares</td>  <th>  F-statistic:       </th> <td>   94.83</td>\n",
       "</tr>\n",
       "<tr>\n",
       "  <th>Date:</th>             <td>Fri, 03 Dec 2021</td> <th>  Prob (F-statistic):</th> <td>3.22e-47</td>\n",
       "</tr>\n",
       "<tr>\n",
       "  <th>Time:</th>                 <td>02:15:18</td>     <th>  Log-Likelihood:    </th> <td> -208.54</td>\n",
       "</tr>\n",
       "<tr>\n",
       "  <th>No. Observations:</th>      <td>   231</td>      <th>  AIC:               </th> <td>   427.1</td>\n",
       "</tr>\n",
       "<tr>\n",
       "  <th>Df Residuals:</th>          <td>   226</td>      <th>  BIC:               </th> <td>   444.3</td>\n",
       "</tr>\n",
       "<tr>\n",
       "  <th>Df Model:</th>              <td>     4</td>      <th>                     </th>     <td> </td>   \n",
       "</tr>\n",
       "<tr>\n",
       "  <th>Covariance Type:</th>      <td>nonrobust</td>    <th>                     </th>     <td> </td>   \n",
       "</tr>\n",
       "</table>\n",
       "<table class=\"simpletable\">\n",
       "<tr>\n",
       "     <td></td>        <th>coef</th>     <th>std err</th>      <th>t</th>      <th>P>|t|</th>  <th>[0.025</th>    <th>0.975]</th>  \n",
       "</tr>\n",
       "<tr>\n",
       "  <th>const</th>   <td>    0.0524</td> <td>    0.048</td> <td>    1.100</td> <td> 0.273</td> <td>   -0.042</td> <td>    0.146</td>\n",
       "</tr>\n",
       "<tr>\n",
       "  <th>temp</th>    <td>    0.8187</td> <td>    0.045</td> <td>   18.381</td> <td> 0.000</td> <td>    0.731</td> <td>    0.906</td>\n",
       "</tr>\n",
       "<tr>\n",
       "  <th>weekend</th> <td>   -0.1789</td> <td>    0.088</td> <td>   -2.023</td> <td> 0.044</td> <td>   -0.353</td> <td>   -0.005</td>\n",
       "</tr>\n",
       "<tr>\n",
       "  <th>rain</th>    <td>   -0.3358</td> <td>    0.058</td> <td>   -5.766</td> <td> 0.000</td> <td>   -0.450</td> <td>   -0.221</td>\n",
       "</tr>\n",
       "<tr>\n",
       "  <th>humid</th>   <td>   -0.2223</td> <td>    0.052</td> <td>   -4.283</td> <td> 0.000</td> <td>   -0.325</td> <td>   -0.120</td>\n",
       "</tr>\n",
       "</table>\n",
       "<table class=\"simpletable\">\n",
       "<tr>\n",
       "  <th>Omnibus:</th>       <td>10.825</td> <th>  Durbin-Watson:     </th> <td>   2.064</td>\n",
       "</tr>\n",
       "<tr>\n",
       "  <th>Prob(Omnibus):</th> <td> 0.004</td> <th>  Jarque-Bera (JB):  </th> <td>  11.564</td>\n",
       "</tr>\n",
       "<tr>\n",
       "  <th>Skew:</th>          <td>-0.444</td> <th>  Prob(JB):          </th> <td> 0.00308</td>\n",
       "</tr>\n",
       "<tr>\n",
       "  <th>Kurtosis:</th>      <td> 3.642</td> <th>  Cond. No.          </th> <td>    2.97</td>\n",
       "</tr>\n",
       "</table><br/><br/>Notes:<br/>[1] Standard Errors assume that the covariance matrix of the errors is correctly specified."
      ],
      "text/plain": [
       "<class 'statsmodels.iolib.summary.Summary'>\n",
       "\"\"\"\n",
       "                            OLS Regression Results                            \n",
       "==============================================================================\n",
       "Dep. Variable:                   user   R-squared:                       0.627\n",
       "Model:                            OLS   Adj. R-squared:                  0.620\n",
       "Method:                 Least Squares   F-statistic:                     94.83\n",
       "Date:                Fri, 03 Dec 2021   Prob (F-statistic):           3.22e-47\n",
       "Time:                        02:15:18   Log-Likelihood:                -208.54\n",
       "No. Observations:                 231   AIC:                             427.1\n",
       "Df Residuals:                     226   BIC:                             444.3\n",
       "Df Model:                           4                                         \n",
       "Covariance Type:            nonrobust                                         \n",
       "==============================================================================\n",
       "                 coef    std err          t      P>|t|      [0.025      0.975]\n",
       "------------------------------------------------------------------------------\n",
       "const          0.0524      0.048      1.100      0.273      -0.042       0.146\n",
       "temp           0.8187      0.045     18.381      0.000       0.731       0.906\n",
       "weekend       -0.1789      0.088     -2.023      0.044      -0.353      -0.005\n",
       "rain          -0.3358      0.058     -5.766      0.000      -0.450      -0.221\n",
       "humid         -0.2223      0.052     -4.283      0.000      -0.325      -0.120\n",
       "==============================================================================\n",
       "Omnibus:                       10.825   Durbin-Watson:                   2.064\n",
       "Prob(Omnibus):                  0.004   Jarque-Bera (JB):               11.564\n",
       "Skew:                          -0.444   Prob(JB):                      0.00308\n",
       "Kurtosis:                       3.642   Cond. No.                         2.97\n",
       "==============================================================================\n",
       "\n",
       "Notes:\n",
       "[1] Standard Errors assume that the covariance matrix of the errors is correctly specified.\n",
       "\"\"\""
      ]
     },
     "execution_count": 41,
     "metadata": {},
     "output_type": "execute_result"
    }
   ],
   "source": [
    "lm_train.summary()"
   ]
  },
  {
   "cell_type": "code",
   "execution_count": 42,
   "metadata": {},
   "outputs": [
    {
     "name": "stdout",
     "output_type": "stream",
     "text": [
      "198   -0.683043\n",
      "7     -1.270851\n",
      "263    0.515446\n",
      "220   -0.073854\n",
      "66     1.460385\n",
      "         ...   \n",
      "179   -1.182390\n",
      "133    0.310112\n",
      "188   -1.054259\n",
      "297    0.412881\n",
      "132    0.378794\n",
      "Length: 100, dtype: float64\n"
     ]
    }
   ],
   "source": [
    "Y_predict = lm_train.predict(X_test)\n",
    "print(Y_predict)"
   ]
  },
  {
   "cell_type": "code",
   "execution_count": 43,
   "metadata": {},
   "outputs": [
    {
     "data": {
      "image/png": "[encoded data removed]",
      "text/plain": [
       "<Figure size 576x576 with 1 Axes>"
      ]
     },
     "metadata": {
      "needs_background": "light"
     },
     "output_type": "display_data"
    }
   ],
   "source": [
    "plt.figure(figsize=(8, 8))\n",
    "plt.scatter(Y_test, Y_predict)\n",
    "plt.xlabel('Y', size=16)\n",
    "plt.ylabel('$\\hat{Y}$', size=16)\n",
    "plt.show()"
   ]
  },
  {
   "cell_type": "code",
   "execution_count": 44,
   "metadata": {},
   "outputs": [],
   "source": [
    "from sklearn.metrics import mean_absolute_error, mean_squared_error, r2_score "
   ]
  },
  {
   "cell_type": "code",
   "execution_count": 45,
   "metadata": {},
   "outputs": [
    {
     "name": "stdout",
     "output_type": "stream",
     "text": [
      "MAE : 0.501\n",
      "MSE : 0.381\n",
      "RMSE : 0.618\n",
      "R-square : 0.652\n"
     ]
    }
   ],
   "source": [
    "# MSE(mean squared error), R-squared (모형 성능 확인)\n",
    "mae = mean_absolute_error(Y_test, Y_predict)\n",
    "mse = mean_squared_error(Y_test, Y_predict)\n",
    "rmse = np.sqrt(mse)\n",
    "r_square = r2_score(Y_test, Y_predict)\n",
    "print('MAE : {0:.3f}'.format(mae))\n",
    "print('MSE : {0:.3f}'.format(mse))\n",
    "print('RMSE : {0:.3f}'.format(rmse))\n",
    "print('R-square : {0:.3f}'.format(r_square))"
   ]
  },
  {
   "cell_type": "markdown",
   "metadata": {},
   "source": [
    "# KNN Regression"
   ]
  },
  {
   "cell_type": "code",
   "execution_count": 49,
   "metadata": {},
   "outputs": [],
   "source": [
    "import mglearn\n",
    "import sklearn.preprocessing as preprocessing\n",
    "from sklearn.neighbors import KNeighborsRegressor\n"
   ]
  },
  {
   "cell_type": "code",
   "execution_count": 51,
   "metadata": {},
   "outputs": [
    {
     "data": {
      "text/plain": [
       "<matplotlib.legend.Legend at 0x2037cd7bbe0>"
      ]
     },
     "execution_count": 51,
     "metadata": {},
     "output_type": "execute_result"
    },
    {
     "data": {
      "image/png": "[encoded data removed]",
      "text/plain": [
       "<Figure size 432x288 with 1 Axes>"
      ]
     },
     "metadata": {
      "needs_background": "light"
     },
     "output_type": "display_data"
    }
   ],
   "source": [
    "training_rsquare = []\n",
    "test_rsquare = []\n",
    "# 여러 k값에 대한 모델 생성 n_neighbors 를 적용\n",
    "k_settings = range(1, 25)\n",
    "\n",
    "for k in k_settings:\n",
    "    # 모델 생성\n",
    "    corolla_knn = KNeighborsRegressor(n_neighbors=k)\n",
    "    corolla_knn.fit(X_train, Y_train)\n",
    "    # 훈련 세트 정확도 저장\n",
    "    training_rsquare.append(corolla_knn.score(X_train, Y_train))\n",
    "    # 일반화 정확도 저장\n",
    "    test_rsquare.append(corolla_knn.score(X_test, Y_test))\n",
    "\n",
    "# K의 변황량에 따른 예측정확도 성능 비교\n",
    "plt.plot(k_settings, training_rsquare, label=\"훈련 R-square\")\n",
    "plt.plot(k_settings, test_rsquare, label=\"테스트 R-square\")\n",
    "plt.ylabel(\"R^2\")\n",
    "plt.xlabel(\"K\")\n",
    "plt.legend()"
   ]
  },
  {
   "cell_type": "code",
   "execution_count": 52,
   "metadata": {},
   "outputs": [
    {
     "name": "stdout",
     "output_type": "stream",
     "text": [
      "최적의 K값: 5\n"
     ]
    }
   ],
   "source": [
    "# 최적의 K 판단\n",
    "from itertools import compress\n",
    "best_k_temp = test_rsquare==max(test_rsquare)\n",
    "best_k = list(compress(k_settings, best_k_temp))[0]\n",
    "print('최적의 K값:', best_k)"
   ]
  },
  {
   "cell_type": "code",
   "execution_count": 55,
   "metadata": {},
   "outputs": [],
   "source": [
    "# 최적의 K값에서 테스트 데이터의 Y예측값\n",
    "best_corolla_knn = KNeighborsRegressor(n_neighbors=best_k)\n",
    "best_corolla_knn.fit(X_train, Y_train)\n",
    "Y_predict_kr = best_corolla_knn.predict(X_test)"
   ]
  },
  {
   "cell_type": "code",
   "execution_count": 57,
   "metadata": {},
   "outputs": [
    {
     "name": "stdout",
     "output_type": "stream",
     "text": [
      "MAE from KNN Regression : 0.361\n",
      "MAE from Linear Regression : 0.501\n",
      "MSE from KNN Regression : 0.257\n",
      "MSE from Linear Regression : 0.381\n",
      "RMSE from KNN Regression : 0.507\n",
      "RMSE from Linear Regression : 0.618\n",
      "R-square from KNN Regression : 0.766\n",
      "R-square from Linear Regression : 0.652\n"
     ]
    }
   ],
   "source": [
    "# MSE(mean squared error), R-squared (모형 성능 비교)\n",
    "mae_kr = mean_absolute_error(Y_test, Y_predict_kr)\n",
    "mae_lr = mean_absolute_error(Y_test, Y_predict)\n",
    "mse_kr = mean_squared_error(Y_test, Y_predict_kr)\n",
    "mse_lr = mean_squared_error(Y_test, Y_predict)\n",
    "rmse_kr = np.sqrt(mse_kr)\n",
    "rmse_lr = np.sqrt(mse_lr)\n",
    "r_square_kr = r2_score(Y_test, Y_predict_kr)\n",
    "r_square_lr = r2_score(Y_test, Y_predict)\n",
    "print('MAE from KNN Regression : {0:.3f}'.format(mae_kr))\n",
    "print('MAE from Linear Regression : {0:.3f}'.format(mae_lr))\n",
    "print('MSE from KNN Regression : {0:.3f}'.format(mse_kr))\n",
    "print('MSE from Linear Regression : {0:.3f}'.format(mse_lr))\n",
    "print('RMSE from KNN Regression : {0:.3f}'.format(rmse_kr))\n",
    "print('RMSE from Linear Regression : {0:.3f}'.format(rmse_lr))\n",
    "print('R-square from KNN Regression : {0:.3f}'.format(r_square_kr))\n",
    "print('R-square from Linear Regression : {0:.3f}'.format(r_square_lr))"
   ]
  },
  {
   "cell_type": "code",
   "execution_count": null,
   "metadata": {},
   "outputs": [],
   "source": []
  },
  {
   "cell_type": "code",
   "execution_count": null,
   "metadata": {},
   "outputs": [],
   "source": []
  },
  {
   "cell_type": "code",
   "execution_count": null,
   "metadata": {},
   "outputs": [],
   "source": []
  }
 ],
 "metadata": {
  "kernelspec": {
   "display_name": "Python 3",
   "language": "python",
   "name": "python3"
  },
  "language_info": {
   "codemirror_mode": {
    "name": "ipython",
    "version": 3
   },
   "file_extension": ".py",
   "mimetype": "text/x-python",
   "name": "python",
   "nbconvert_exporter": "python",
   "pygments_lexer": "ipython3",
   "version": "3.8.5"
  }
 },
 "nbformat": 4,
 "nbformat_minor": 4
}
